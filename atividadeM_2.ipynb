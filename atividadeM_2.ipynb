{
 "cells": [
  {
   "cell_type": "markdown",
   "id": "971d146e",
   "metadata": {},
   "source": [
    "# Atividade Modulo 2"
   ]
  },
  {
   "cell_type": "markdown",
   "id": "26b08a53",
   "metadata": {},
   "source": [
    "#Atividade 1"
   ]
  },
  {
   "cell_type": "code",
   "execution_count": 1,
   "id": "67554391",
   "metadata": {},
   "outputs": [],
   "source": [
    "name = \"Douglas Mateus de Oliveira\"\n",
    "name2 = \"Douglas Oliveira\"\n",
    "name3 = \"Douglas\"\n",
    "name4 = (\"Douglas\")"
   ]
  },
  {
   "cell_type": "code",
   "execution_count": 2,
   "id": "12d846a0",
   "metadata": {},
   "outputs": [
    {
     "data": {
      "text/plain": [
       "str"
      ]
     },
     "execution_count": 2,
     "metadata": {},
     "output_type": "execute_result"
    }
   ],
   "source": [
    "type(name)"
   ]
  },
  {
   "cell_type": "code",
   "execution_count": 3,
   "id": "30415288",
   "metadata": {},
   "outputs": [
    {
     "name": "stdout",
     "output_type": "stream",
     "text": [
      "False\n"
     ]
    }
   ],
   "source": [
    "print (name == name2)"
   ]
  },
  {
   "cell_type": "code",
   "execution_count": 4,
   "id": "c69f9714",
   "metadata": {},
   "outputs": [
    {
     "name": "stdout",
     "output_type": "stream",
     "text": [
      "False\n"
     ]
    }
   ],
   "source": [
    "print ( name == name2 == name3)"
   ]
  },
  {
   "cell_type": "code",
   "execution_count": 5,
   "id": "ae045820",
   "metadata": {},
   "outputs": [
    {
     "name": "stdout",
     "output_type": "stream",
     "text": [
      "True\n"
     ]
    }
   ],
   "source": [
    "print (name3 == name4)"
   ]
  },
  {
   "cell_type": "markdown",
   "id": "0adfe14a",
   "metadata": {},
   "source": [
    "#Atividade 2"
   ]
  },
  {
   "cell_type": "code",
   "execution_count": 6,
   "id": "91fa66e3",
   "metadata": {},
   "outputs": [],
   "source": [
    "lista = ['Douglas' , 'Daiana', 'Ana', 'Douglas' , 'Ana', 'Liliam']\n"
   ]
  },
  {
   "cell_type": "code",
   "execution_count": 7,
   "id": "b6f676c4",
   "metadata": {},
   "outputs": [
    {
     "data": {
      "text/plain": [
       "list"
      ]
     },
     "execution_count": 7,
     "metadata": {},
     "output_type": "execute_result"
    }
   ],
   "source": [
    "type (lista)"
   ]
  },
  {
   "cell_type": "code",
   "execution_count": 8,
   "id": "8abbcbb0",
   "metadata": {},
   "outputs": [
    {
     "data": {
      "text/plain": [
       "6"
      ]
     },
     "execution_count": 8,
     "metadata": {},
     "output_type": "execute_result"
    }
   ],
   "source": [
    "len(lista)"
   ]
  },
  {
   "cell_type": "code",
   "execution_count": 9,
   "id": "310b5e75",
   "metadata": {},
   "outputs": [],
   "source": [
    "listaAtt= set(lista)"
   ]
  },
  {
   "cell_type": "code",
   "execution_count": 10,
   "id": "135738ca",
   "metadata": {},
   "outputs": [
    {
     "data": {
      "text/plain": [
       "4"
      ]
     },
     "execution_count": 10,
     "metadata": {},
     "output_type": "execute_result"
    }
   ],
   "source": [
    "len(listaAtt)"
   ]
  },
  {
   "cell_type": "markdown",
   "id": "f66a3d33",
   "metadata": {},
   "source": [
    "#Atividade 3"
   ]
  },
  {
   "cell_type": "code",
   "execution_count": 11,
   "id": "1fae811a",
   "metadata": {},
   "outputs": [],
   "source": [
    "dic = {\"Douglas\": ['lasanha', 'xis', 'refrigerente'], \n",
    "       \"Daiana\": ['miojo', 'arroz', 'carne'], \n",
    "       \"Liliam\":['massa', 'galinha', 'feijão'] }"
   ]
  },
  {
   "cell_type": "code",
   "execution_count": 12,
   "id": "c4b6271f",
   "metadata": {},
   "outputs": [
    {
     "name": "stdout",
     "output_type": "stream",
     "text": [
      "{'Douglas': ['lasanha', 'xis', 'refrigerente'], 'Daiana': ['miojo', 'arroz', 'carne'], 'Liliam': ['massa', 'galinha', 'feijão']}\n"
     ]
    }
   ],
   "source": [
    "print (dic)"
   ]
  },
  {
   "cell_type": "code",
   "execution_count": 13,
   "id": "3d5f0dfd",
   "metadata": {},
   "outputs": [
    {
     "name": "stdout",
     "output_type": "stream",
     "text": [
      "{'Douglas': ['lasanha', 'xis', 'refrigerente'], 'Daiana': ['miojo', 'arroz', 'carne'], 'Liliam': ['massa', 'galinha', 'feijão']}\n"
     ]
    }
   ],
   "source": [
    "print (dic)"
   ]
  },
  {
   "cell_type": "code",
   "execution_count": 14,
   "id": "d40d3d5e",
   "metadata": {},
   "outputs": [
    {
     "data": {
      "text/plain": [
       "3"
      ]
     },
     "execution_count": 14,
     "metadata": {},
     "output_type": "execute_result"
    }
   ],
   "source": [
    "len (dic)"
   ]
  },
  {
   "cell_type": "code",
   "execution_count": 15,
   "id": "6e6bc7b4",
   "metadata": {},
   "outputs": [],
   "source": [
    "dic [\"Douglas\"] = ['miojo', 'vinho']"
   ]
  },
  {
   "cell_type": "code",
   "execution_count": 16,
   "id": "8ba895fc",
   "metadata": {},
   "outputs": [
    {
     "name": "stdout",
     "output_type": "stream",
     "text": [
      "{'Douglas': ['miojo', 'vinho'], 'Daiana': ['miojo', 'arroz', 'carne'], 'Liliam': ['massa', 'galinha', 'feijão']}\n"
     ]
    }
   ],
   "source": [
    "print (dic)"
   ]
  },
  {
   "cell_type": "code",
   "execution_count": null,
   "id": "b5993b6d",
   "metadata": {},
   "outputs": [],
   "source": []
  }
 ],
 "metadata": {
  "kernelspec": {
   "display_name": "Python 3 (ipykernel)",
   "language": "python",
   "name": "python3"
  },
  "language_info": {
   "codemirror_mode": {
    "name": "ipython",
    "version": 3
   },
   "file_extension": ".py",
   "mimetype": "text/x-python",
   "name": "python",
   "nbconvert_exporter": "python",
   "pygments_lexer": "ipython3",
   "version": "3.9.12"
  }
 },
 "nbformat": 4,
 "nbformat_minor": 5
}
