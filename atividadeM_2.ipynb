{
 "cells": [
  {
   "cell_type": "markdown",
   "id": "971d146e",
   "metadata": {},
   "source": [
    "# Atividade Modulo 2"
   ]
  },
  {
   "cell_type": "markdown",
   "id": "26b08a53",
   "metadata": {},
   "source": [
    "#Atividade 1"
   ]
  },
  {
   "cell_type": "code",
   "execution_count": 1,
   "id": "67554391",
   "metadata": {},
   "outputs": [],
   "source": [
    "name = (\"Douglas Mateus de Oliveira\")\n",
    "name2 = (\"Douglas Oliveira\")\n",
    "name3 = (\"Douglas\")\n",
    "name4 = (\"Douglas\")"
   ]
  },
  {
   "cell_type": "code",
   "execution_count": 2,
   "id": "30415288",
   "metadata": {},
   "outputs": [
    {
     "name": "stdout",
     "output_type": "stream",
     "text": [
      "False\n"
     ]
    }
   ],
   "source": [
    "print (name == name2)"
   ]
  },
  {
   "cell_type": "code",
   "execution_count": 3,
   "id": "c69f9714",
   "metadata": {},
   "outputs": [
    {
     "name": "stdout",
     "output_type": "stream",
     "text": [
      "False\n"
     ]
    }
   ],
   "source": [
    "print ( name == name2 == name3)"
   ]
  },
  {
   "cell_type": "code",
   "execution_count": 4,
   "id": "ae045820",
   "metadata": {},
   "outputs": [
    {
     "name": "stdout",
     "output_type": "stream",
     "text": [
      "True\n"
     ]
    }
   ],
   "source": [
    "print (name3 == name4)"
   ]
  },
  {
   "cell_type": "markdown",
   "id": "0adfe14a",
   "metadata": {},
   "source": [
    "#Atividade 2"
   ]
  },
  {
   "cell_type": "code",
   "execution_count": 5,
   "id": "91fa66e3",
   "metadata": {},
   "outputs": [],
   "source": [
    "num = 272\n",
    "num2 = 54"
   ]
  },
  {
   "cell_type": "code",
   "execution_count": 6,
   "id": "2e1da804",
   "metadata": {},
   "outputs": [
    {
     "name": "stdout",
     "output_type": "stream",
     "text": [
      "2\n"
     ]
    }
   ],
   "source": [
    "print (num%num2)"
   ]
  },
  {
   "cell_type": "code",
   "execution_count": 7,
   "id": "b5f96149",
   "metadata": {},
   "outputs": [
    {
     "name": "stdout",
     "output_type": "stream",
     "text": [
      "5.037037037037037\n"
     ]
    }
   ],
   "source": [
    "print (num/num2)"
   ]
  },
  {
   "cell_type": "markdown",
   "id": "f66a3d33",
   "metadata": {},
   "source": [
    "#Atividade 3"
   ]
  },
  {
   "cell_type": "code",
   "execution_count": 8,
   "id": "1fae811a",
   "metadata": {},
   "outputs": [],
   "source": [
    "dic = {\"Douglas\": 35, \"Daiana\": 20, \"Liliam\":10 }"
   ]
  },
  {
   "cell_type": "code",
   "execution_count": 9,
   "id": "c4b6271f",
   "metadata": {},
   "outputs": [
    {
     "name": "stdout",
     "output_type": "stream",
     "text": [
      "{'Douglas': 35, 'Daiana': 20, 'Liliam': 10}\n"
     ]
    }
   ],
   "source": [
    "print (dic)"
   ]
  },
  {
   "cell_type": "code",
   "execution_count": 10,
   "id": "54ef604a",
   "metadata": {},
   "outputs": [],
   "source": [
    "dic[\"Maria\"] = 2"
   ]
  },
  {
   "cell_type": "code",
   "execution_count": 11,
   "id": "3d5f0dfd",
   "metadata": {},
   "outputs": [
    {
     "name": "stdout",
     "output_type": "stream",
     "text": [
      "{'Douglas': 35, 'Daiana': 20, 'Liliam': 10, 'Maria': 2}\n"
     ]
    }
   ],
   "source": [
    "print (dic)"
   ]
  },
  {
   "cell_type": "code",
   "execution_count": 12,
   "id": "d40d3d5e",
   "metadata": {},
   "outputs": [
    {
     "data": {
      "text/plain": [
       "4"
      ]
     },
     "execution_count": 12,
     "metadata": {},
     "output_type": "execute_result"
    }
   ],
   "source": [
    "len (dic)"
   ]
  },
  {
   "cell_type": "code",
   "execution_count": 13,
   "id": "6e6bc7b4",
   "metadata": {},
   "outputs": [],
   "source": [
    "dic [\"Douglas\"] =22"
   ]
  },
  {
   "cell_type": "code",
   "execution_count": 14,
   "id": "8ba895fc",
   "metadata": {},
   "outputs": [
    {
     "name": "stdout",
     "output_type": "stream",
     "text": [
      "{'Douglas': 22, 'Daiana': 20, 'Liliam': 10, 'Maria': 2}\n"
     ]
    }
   ],
   "source": [
    "print (dic)"
   ]
  },
  {
   "cell_type": "code",
   "execution_count": 15,
   "id": "cbd116bb",
   "metadata": {},
   "outputs": [],
   "source": [
    "dicCliente = {\"Nome\": \"Douglas\", \"Idade\": 28, \"totalCompras\": 25}\n",
    "dicCliente2= {\"Nome\": \"Daiana\", \"Idade\":27, \"totalCompras\":10}\n",
    "dicCliente3= {\"Nome\": \"Liliam\", \"Idade\": 57, \"totalCompras\":2}\n",
    "             "
   ]
  },
  {
   "cell_type": "code",
   "execution_count": 16,
   "id": "6912288e",
   "metadata": {},
   "outputs": [
    {
     "name": "stdout",
     "output_type": "stream",
     "text": [
      "{'Nome': 'Douglas', 'Idade': 28, 'totalCompras': 25}\n",
      "{'Nome': 'Daiana', 'Idade': 27, 'totalCompras': 10}\n",
      "{'Nome': 'Liliam', 'Idade': 57, 'totalCompras': 2}\n"
     ]
    }
   ],
   "source": [
    "print (dicCliente)\n",
    "print (dicCliente2)\n",
    "print (dicCliente3)"
   ]
  },
  {
   "cell_type": "code",
   "execution_count": null,
   "id": "a15af955",
   "metadata": {},
   "outputs": [],
   "source": []
  }
 ],
 "metadata": {
  "kernelspec": {
   "display_name": "Python 3 (ipykernel)",
   "language": "python",
   "name": "python3"
  },
  "language_info": {
   "codemirror_mode": {
    "name": "ipython",
    "version": 3
   },
   "file_extension": ".py",
   "mimetype": "text/x-python",
   "name": "python",
   "nbconvert_exporter": "python",
   "pygments_lexer": "ipython3",
   "version": "3.9.12"
  }
 },
 "nbformat": 4,
 "nbformat_minor": 5
}
